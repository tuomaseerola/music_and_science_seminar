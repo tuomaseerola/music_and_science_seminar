{
  "cells": [
    {
      "cell_type": "markdown",
      "id": "59fbaa4c",
      "metadata": {
        "id": "59fbaa4c"
      },
      "source": [
        "<a href=\"https://colab.research.google.com/github/tuomaseerola/emr/blob/master/Chapter7.ipynb\" target=\"_parent\"><img src=\"https://colab.research.google.com/assets/colab-badge.svg\" alt=\"Open In Colab\"/></a>"
      ]
    },
    {
      "cell_type": "markdown",
      "id": "2ccbac5a",
      "metadata": {
        "id": "2ccbac5a"
      },
      "source": [
        "# Build a Regression Model\n",
        "\n",
        "To run the code in your browser, open the file in Colab (click the icon \"Open in Colab\"). Alternatively, you can download the notebook and run it locally.\n",
        "\n",
        "This notebook demonstrates running inferential statistical tests in R.\n",
        "\n",
        "File `build_regression_model.ipynb` | Version `2/3/2023` |\n",
        "\n",
        "---"
      ]
    },
    {
      "cell_type": "markdown",
      "id": "a88f2dc7",
      "metadata": {
        "id": "a88f2dc7"
      },
      "source": [
        "## Preliminaries\n",
        "Load libraries and install `MusicScienceData` package where the example data is stored."
      ]
    },
    {
      "cell_type": "code",
      "execution_count": null,
      "id": "fe13c2f5",
      "metadata": {
        "vscode": {
          "languageId": "r"
        },
        "id": "fe13c2f5",
        "outputId": "63dcbd70-b036-49eb-be61-db3f3ff23c20"
      },
      "outputs": [
        {
          "name": "stderr",
          "output_type": "stream",
          "text": [
            "── \u001b[1mAttaching packages\u001b[22m ─────────────────────────────────────── tidyverse 1.3.2 ──\n",
            "\u001b[32m✔\u001b[39m \u001b[34mtibble \u001b[39m 3.1.8      \u001b[32m✔\u001b[39m \u001b[34mdplyr  \u001b[39m 1.0.10\n",
            "\u001b[32m✔\u001b[39m \u001b[34mtidyr  \u001b[39m 1.2.1      \u001b[32m✔\u001b[39m \u001b[34mstringr\u001b[39m 1.4.1 \n",
            "\u001b[32m✔\u001b[39m \u001b[34mreadr  \u001b[39m 2.1.3      \u001b[32m✔\u001b[39m \u001b[34mforcats\u001b[39m 0.5.2 \n",
            "\u001b[32m✔\u001b[39m \u001b[34mpurrr  \u001b[39m 0.3.5      \n",
            "── \u001b[1mConflicts\u001b[22m ────────────────────────────────────────── tidyverse_conflicts() ──\n",
            "\u001b[31m✖\u001b[39m \u001b[34mdplyr\u001b[39m::\u001b[32mfilter()\u001b[39m masks \u001b[34mstats\u001b[39m::filter()\n",
            "\u001b[31m✖\u001b[39m \u001b[34mdplyr\u001b[39m::\u001b[32mlag()\u001b[39m    masks \u001b[34mstats\u001b[39m::lag()\n",
            "Loading required package: devtools\n",
            "\n",
            "Loading required package: usethis\n",
            "\n"
          ]
        }
      ],
      "source": [
        "library(ggplot2,quietly = TRUE)\n",
        "library(tidyverse,quietly = TRUE)\n",
        "if (!require(devtools)) install.packages(\"devtools\",quiet=TRUE)\n",
        "devtools::install_github(\"tuomaseerola/MusicScienceData@main\",quiet=TRUE)\n",
        "library(MusicScienceData,quiet=TRUE)"
      ]
    },
    {
      "cell_type": "markdown",
      "id": "32ccd68f",
      "metadata": {
        "id": "32ccd68f"
      },
      "source": [
        "## Grab a dataset\n",
        "These are the raw ratings of emotions for the film soundtracks (Eerola & Vuoskoski, 2011)."
      ]
    },
    {
      "cell_type": "code",
      "execution_count": null,
      "outputs": [
        {
          "name": "stderr",
          "output_type": "stream",
          "text": [
            "Warning message in file(file, \"rt\"):\n",
            "“cannot open file 'raw_ratings.csv': No such file or directory”\n"
          ]
        },
        {
          "ename": "ERROR",
          "evalue": "Error in file(file, \"rt\"): cannot open the connection\n",
          "output_type": "error",
          "traceback": [
            "Error in file(file, \"rt\"): cannot open the connection\nTraceback:\n",
            "1. read.csv(\"raw_ratings.csv\")",
            "2. read.table(file = file, header = header, sep = sep, quote = quote, \n .     dec = dec, fill = fill, comment.char = comment.char, ...)",
            "3. file(file, \"rt\")"
          ]
        }
      ],
      "source": [
        "d <- read.csv('https://raw.githubusercontent.com/tuomaseerola/emr/main/data/raw_ratings.csv')\n",
        "d2 <- dplyr::filter(d,Emotion=='Dimensional')  #\n",
        "d3 <- dplyr::filter(d2, Category=='Anger' |\n",
        "  Category=='Fear' |\n",
        "  Category=='Happy' |\n",
        "  Category=='Sad' |\n",
        "  Category=='Tender')\n",
        "m1 <- lmer(Valence ~ Category * Gender + (1|id) + (1|Track), data = d3)\n",
        "s <- summary(m1,corr=FALSE)\n",
        "S<-s$coefficients; S<-round(S,2); S[,5]<-scales::pvalue(S[,5])\n",
        "print(knitr::kable(S,format = 'simple',\n",
        "                   caption = 'LMM results of Valence ratings.'))\n"
      ],
      "metadata": {
        "id": "jZ-WUsnXVzWe",
        "outputId": "c7f7bc6f-3aad-4b72-9377-11c723f86a89"
      },
      "id": "jZ-WUsnXVzWe"
    },
    {
      "cell_type": "markdown",
      "source": [
        "## Code 7.7"
      ],
      "metadata": {
        "collapsed": false,
        "id": "z6iaqzcAVzWf"
      },
      "id": "z6iaqzcAVzWf"
    },
    {
      "cell_type": "markdown",
      "source": [
        "## Explore how features and ratings correlate"
      ],
      "metadata": {
        "collapsed": false,
        "id": "55bz2343VzWg"
      },
      "id": "55bz2343VzWg"
    },
    {
      "cell_type": "code",
      "execution_count": null,
      "outputs": [],
      "source": [
        "library(MusicScienceData)               # loads library w data\n",
        "d1 <- MusicScienceData::soundtrack      # get ratings\n",
        "d2 <- MusicScienceData::soundtrack_features[,c(2:3,5:6)] #\n",
        "d1[,17:21] <- as.data.frame(scale(d2))  # normalise\n",
        "\n",
        "tmp <- cor(d1[,c(3,17:20)]) # get correlations\n",
        "print(round(tmp[2:5,1],2))  # display first line\n"
      ],
      "metadata": {
        "id": "PhucucDVVzWg"
      },
      "id": "PhucucDVVzWg"
    },
    {
      "cell_type": "markdown",
      "source": [
        "## Construct a model"
      ],
      "metadata": {
        "collapsed": false,
        "id": "c0MTY1qlVzWg"
      },
      "id": "c0MTY1qlVzWg"
    },
    {
      "cell_type": "code",
      "execution_count": null,
      "outputs": [],
      "source": [
        "model.reg <- lm(Energy ~ RMS + sp_centr + spec_rolloff +\n",
        "  spec_zcr, data = d1)\n",
        "s <- summary(model.reg) # R2adj = 0.424 (Energy)\n",
        "print(s)\n"
      ],
      "metadata": {
        "id": "8uqFKWeZVzWg"
      },
      "id": "8uqFKWeZVzWg"
    },
    {
      "cell_type": "markdown",
      "source": [
        "## Prediction rate vs correlation?\n",
        "$R^2$ and correlation coefficient ($r$) are directly related. "
      ],
      "metadata": {
        "collapsed": false,
        "id": "OQPv7GlnVzWh"
      },
      "id": "OQPv7GlnVzWh"
    },
    {
      "cell_type": "code",
      "execution_count": null,
      "outputs": [],
      "source": [
        "r <- cor(d1$Energy, d1$RMS)\n",
        "print( r^2 )    # print the squared correlation\n",
        "\n",
        "summary(lm(Energy ~ RMS,data=d1)) # Summarise regression\n"
      ],
      "metadata": {
        "id": "S_yRoTriVzWh"
      },
      "id": "S_yRoTriVzWh"
    }
  ],
  "metadata": {
    "kernelspec": {
      "display_name": "R",
      "language": "R",
      "name": "ir"
    },
    "language_info": {
      "codemirror_mode": "r",
      "file_extension": ".r",
      "mimetype": "text/x-r-source",
      "name": "R",
      "pygments_lexer": "r",
      "version": "3.6.0"
    },
    "colab": {
      "provenance": []
    }
  },
  "nbformat": 4,
  "nbformat_minor": 5
}