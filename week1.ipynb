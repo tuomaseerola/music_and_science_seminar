{
  "nbformat": 4,
  "nbformat_minor": 0,
  "metadata": {
    "colab": {
      "name": "MS_Seminar2.ipynb",
      "private_outputs": true,
      "provenance": [],
      "include_colab_link": true
    },
    "kernelspec": {
      "name": "python3",
      "language": "python",
      "display_name": "Python 3 (ipykernel)"
    },
    "language_info": {
      "name": "python"
    }
  },
  "cells": [
    {
      "cell_type": "markdown",
      "metadata": {
        "id": "view-in-github",
        "colab_type": "text"
      },
      "source": [
        "<a href=\"https://colab.research.google.com/github/tuomaseerola/music_and_science_seminar/blob/master/week1.ipynb\" target=\"_parent\"><img src=\"https://colab.research.google.com/assets/colab-badge.svg\" alt=\"Open In Colab\"/></a>"
      ]
    },
    {
      "cell_type": "markdown",
      "metadata": {
        "id": "WTO_mMkGJCci"
      },
      "source": [
        "# Music and Science – Tutorial on Creating Sounds Using Sines\n",
        "\n",
        "[Tuomas Eerola](https://www.durham.ac.uk/staff/tuomas-eerola/), Durham University, Music Department, 2025.\n",
        "\n",
        "For **Music and Science** Module, Week 1\n",
        "\n",
        "_Last update 24/9/2025 by TE_"
      ]
    },
    {
      "cell_type": "code",
      "metadata": {
        "id": "r3LSkxYNS5nY"
      },
      "source": [
        "import numpy as np\n",
        "import IPython.display as ipd\n",
        "from matplotlib import pyplot as plt\n",
        "%matplotlib inline"
      ],
      "execution_count": null,
      "outputs": []
    },
    {
      "cell_type": "markdown",
      "metadata": {
        "id": "rJErDwSLJNz7"
      },
      "source": [
        "## 1. Create sine waves\n",
        "\n",
        "### 1.1. Define the properties of a sine wave"
      ]
    },
    {
      "cell_type": "code",
      "metadata": {
        "id": "HFWJUQL3I3z3"
      },
      "source": [
        "frequency = 2   # Frequency   #PROMPT: Change the values of the frequency, duration, amplitude, phase, and sampling rate to see how the output changes.\n",
        "duration = 2    # Duration of sound\n",
        "amplitude = 1.0 # Amplitude\n",
        "phase = 0.0     # Phase\n",
        "Fs = 100        # Sampling rate (per second)\n",
        "\n",
        "# This code creates the sine wave with the properties you detailed above\n",
        "num_samples = int(Fs * duration)\n",
        "t = np.arange(num_samples) / Fs\n",
        "x = amplitude * np.sin(2 * np.pi * (frequency * t - phase))\n",
        "\n",
        "# This code plots the result\n",
        "plt.figure(figsize=(10, 2))\n",
        "plt.plot(t, x, color = 'blue', linewidth = 2.0, linestyle = '-')\n",
        "plt.xlabel('Time (seconds)')\n",
        "plt.ylabel('Amplitude')\n",
        "plt.tight_layout()"
      ],
      "execution_count": null,
      "outputs": []
    },
    {
      "cell_type": "markdown",
      "metadata": {
        "id": "9Ft8hh4LL7Ab"
      },
      "source": [
        "### 1.2 Create a sine wave that you can listen to\n",
        "\n",
        "**TASK** - Try varying the parameters (frequency, phase, amplitude). Can you hear the effect of changing phase?\n"
      ]
    },
    {
      "cell_type": "code",
      "metadata": {
        "id": "-zooDsQiLqDD"
      },
      "source": [
        "frequency = 520  #PROMPT: Change the values of the frequency and phase and run the code. Notice the differences in the audio file and plot.\n",
        "duration = 2.50\n",
        "amplitude = 1.0\n",
        "phase = 0.0\n",
        "Fs = 22050\n",
        "\n",
        "num_samples = int(Fs * duration)\n",
        "t = np.arange(num_samples) / Fs\n",
        "x = amplitude * np.sin(2 * np.pi * (frequency * t - phase))\n",
        "\n",
        "plt.figure(figsize=(10, 2))\n",
        "plt.plot(t, x, color='blue', linewidth=2.0, linestyle='-')\n",
        "plt.xlim([0, duration])\n",
        "plt.ylim([-1, 1])\n",
        "plt.xlabel('Time (seconds)')\n",
        "plt.ylabel('Amplitude')\n",
        "plt.tight_layout()\n",
        "ipd.display(ipd.Audio(data=x, rate=Fs))"
      ],
      "execution_count": null,
      "outputs": []
    },
    {
      "cell_type": "markdown",
      "metadata": {
        "id": "h9WIKgpjV-eD"
      },
      "source": [
        "### 1.3 Combine several sine waves to create a complex sound\n",
        "**TASK** - try altering the frequencies:\n",
        "  * Try to create a sound that has a missing fundamental frequency of 200Hz (lecture example had only partials 800, 1000, and 1200 hz)."
      ]
    },
    {
      "cell_type": "code",
      "metadata": {
        "id": "ze9JbgM1UDGL"
      },
      "source": [
        "# Combine several sine waves (here are three frequencies)\n",
        "frequency1 = 300 #PROMPT: Change the values of the 3 frequencies and listen to the output. Carry out the tasks above.\n",
        "frequency2 = 600\n",
        "frequency3 = 1200\n",
        "duration = 5.0\n",
        "amplitude = 1.0\n",
        "phase = 0.0\n",
        "Fs = 22050\n",
        "\n",
        "num_samples = int(Fs * duration)\n",
        "t = np.arange(num_samples) / Fs\n",
        "x1 = amplitude * np.sin(2 * np.pi * (frequency1 * t - phase)) # 1st sine\n",
        "x2 = amplitude * np.sin(2 * np.pi * (frequency2 * t - phase)) # 2nd sine\n",
        "x3 = amplitude * np.sin(2 * np.pi * (frequency3 * t - phase)) # 3rd sine\n",
        "# Combine all three (sum and divide by 3 to keep the amplitude as original)\n",
        "x123=(x1+x2+x3)/3\n",
        "\n",
        "plt.figure(figsize=(12, 4))\n",
        "plt.plot(t, x123, color = 'green')\n",
        "plt.xlim([0, 0.05])             # New element: Just show the first 50 ms\n",
        "plt.xlabel('Time (seconds)')\n",
        "plt.ylabel('Amplitude')\n",
        "plt.tight_layout()\n",
        "ipd.display(ipd.Audio(data=x123, rate=Fs))"
      ],
      "execution_count": null,
      "outputs": []
    },
    {
      "cell_type": "code",
      "source": [],
      "metadata": {
        "id": "8IWh1WvscEUl"
      },
      "execution_count": null,
      "outputs": []
    },
    {
      "cell_type": "markdown",
      "source": [
        "## 1.4 Create a beating sound\n",
        "In the lectures we heard some beating (mistuned) sinewave sounds.\n",
        "\n",
        "**TASK** - Try come up with the worst possible combination using two frequencies that close to each other. Change the frequency in line 2 or both frequencies to find really annoying octave where beating occurs....\n"
      ],
      "metadata": {
        "collapsed": false,
        "id": "Po9vlSFbYJzT"
      }
    },
    {
      "cell_type": "code",
      "execution_count": null,
      "outputs": [],
      "source": [
        "frequency1 = 400\n",
        "frequency2 = 400\n",
        "\n",
        "duration = 1.0\n",
        "amplitude = 1.0\n",
        "phase = 0.0\n",
        "Fs = 22050\n",
        "\n",
        "num_samples = int(Fs * duration)\n",
        "t = np.arange(num_samples) / Fs\n",
        "x1 = amplitude * np.sin(2 * np.pi * (frequency1 * t - phase)) # 1st sine\n",
        "x2 = amplitude * np.sin(2 * np.pi * (frequency2 * t - phase)) # 2nd sine\n",
        "# Combine both (sum and divide by 2 to keep the amplitude as original)\n",
        "x12=(x1+x2)/2\n",
        "\n",
        "plt.figure(figsize=(12, 4))\n",
        "plt.plot(t, x12, color = 'magenta')\n",
        "plt.ylim([-1, 1])             # limit the axis to -1 to +1\n",
        "plt.xlim([0, 0.05])           # Just show the first 50 ms\n",
        "plt.xlabel('Time (seconds)')\n",
        "plt.ylabel('Amplitude')\n",
        "plt.tight_layout()\n",
        "ipd.display(ipd.Audio(data=x12, rate=Fs,normalize=False))"
      ],
      "metadata": {
        "id": "oElSP0muYJzT"
      }
    },
    {
      "cell_type": "markdown",
      "source": [
        "## Save any created sound\n",
        "If you ever need to save an audio file that you create, you can use this command to save it."
      ],
      "metadata": {
        "collapsed": false,
        "id": "ubNeij5tYJzT"
      }
    },
    {
      "cell_type": "code",
      "execution_count": null,
      "outputs": [],
      "source": [
        "import soundfile as sf\n",
        "sf.write('beating.wav', x12, Fs)"
      ],
      "metadata": {
        "id": "w1IxgMQOYJzT"
      }
    },
    {
      "cell_type": "markdown",
      "source": [
        "Note that if you create a file in Colab, it is available only during your active session in the files (open the files icon in the lefthand side and download your newly created wave file called `beating.wav`)."
      ],
      "metadata": {
        "collapsed": false,
        "id": "WXIqmAgpYJzT"
      }
    },
    {
      "cell_type": "markdown",
      "source": [
        "## 1.5 Noise cancellation\n",
        "\n",
        "Noise cancelling headphones eliminate unwanted noise by listening the input and creating the same sound by in _opposite phase_.\n",
        "\n",
        "**TASK** - Can you try to cancel a sine tone with another sine tone? It is a bit simplified task but illustrates the process well."
      ],
      "metadata": {
        "id": "RvSV6ev8aWgf"
      }
    },
    {
      "cell_type": "code",
      "source": [
        "frequency1 = 400\n",
        "frequency2 = 400\n",
        "\n",
        "duration = 1.0\n",
        "amplitude = 1.0\n",
        "phase1 = 0.0\n",
        "phase2 = 0.0\n",
        "Fs = 22050\n",
        "\n",
        "num_samples = int(Fs * duration)\n",
        "t = np.arange(num_samples) / Fs\n",
        "x1 = amplitude * np.sin(2 * np.pi * (frequency1 * t - phase1)) # 1st sine\n",
        "x2 = amplitude * np.sin(2 * np.pi * (frequency2 * t - phase2)) # 2nd sine\n",
        "# Combine both (sum and divide by 2 to keep the amplitude as original)\n",
        "x12=(x1+x2)/2\n",
        "\n",
        "plt.figure(figsize=(12, 4))\n",
        "plt.plot(t, x12, color = 'purple')\n",
        "plt.ylim([-1, 1])             # limit the axis to -1 to +1\n",
        "plt.xlim([0, 0.05])           # Just show the first 50 ms\n",
        "plt.xlabel('Time (seconds)')\n",
        "plt.ylabel('Amplitude')\n",
        "plt.tight_layout()\n",
        "ipd.display(ipd.Audio(data=x12, rate=Fs,normalize=False))"
      ],
      "metadata": {
        "id": "P-n21NKLaXWl"
      },
      "execution_count": null,
      "outputs": []
    },
    {
      "cell_type": "markdown",
      "source": [
        "There is of course dedicated synthesis tools that use Python, see for example [https://wiki.python.org/moin/PythonInMusic](https://wiki.python.org/moin/PythonInMusic) but these are not explored here. Later on we come back to analysis of existing audio files with a python tool called [Librosa](https://librosa.org)."
      ],
      "metadata": {
        "id": "fAnBaDPIeZgy"
      }
    }
  ]
}