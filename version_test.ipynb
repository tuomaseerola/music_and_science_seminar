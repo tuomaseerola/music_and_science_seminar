{
 "cells": [
  {
   "cell_type": "markdown",
   "source": [
    "# Establish version comptable with Colab\n",
    "Python 3.7\n",
    "librosa 0.8.1\n",
    "matplotlib 3.2.2\n",
    "numpy 1.21.6"
   ],
   "metadata": {
    "collapsed": false
   }
  },
  {
   "cell_type": "code",
   "execution_count": 13,
   "outputs": [
    {
     "name": "stdout",
     "output_type": "stream",
     "text": [
      "3.7.7\n",
      "3.2.2\n",
      "0.8.1\n",
      "1.21.6\n"
     ]
    }
   ],
   "source": [
    "import platform\n",
    "print(platform.python_version())\n",
    "import matplotlib\n",
    "print(matplotlib.__version__)\n",
    "import librosa\n",
    "import librosa.display\n",
    "print(librosa.__version__)\n",
    "import numpy as np\n",
    "print(np.__version__)"
   ],
   "metadata": {
    "collapsed": false
   }
  },
  {
   "cell_type": "code",
   "execution_count": null,
   "outputs": [],
   "source": [
    "x, sr = librosa.load('help_intro.wav', offset=1.05, duration=11.137-1.05) #\n",
    "\n",
    "plt.figure(figsize=(12, 4))\n",
    "librosa.display.waveshow(y=x,sr=sr)\n",
    "ipd.display(ipd.Audio(data=x, rate=sr))"
   ],
   "metadata": {
    "collapsed": false
   }
  },
  {
   "cell_type": "code",
   "execution_count": null,
   "outputs": [],
   "source": [
    "rms = librosa.feature.rms(y = x)                 # Extra dynamics (RMS)\n",
    "db = librosa.amplitude_to_db(rms,ref = np.max)   # Convert into dB. Note that this is a relative measure (loudest is now 0)\n",
    "times = librosa.times_like(rms)"
   ],
   "metadata": {
    "collapsed": false
   }
  },
  {
   "cell_type": "code",
   "execution_count": null,
   "outputs": [],
   "source": [
    "onset_subbands = librosa.onset.onset_strength_multi(x, sr=sr,channels=[0, 32, 64, 96, 128])\n",
    "onset_subbands_s = sum(onset_subbands,1)\n",
    "\n",
    "plt.figure(figsize=(12, 4))\n",
    "plt.plot(times, onset_subbands_s,'b')\n",
    "\n",
    "tempo, beats = librosa.beat.beat_track(y=x, sr=sr,trim=False)\n",
    "plt.vlines(times[beats], 0, onset_subbands_s.max(), color='y', alpha=0.80,linestyle='--', label='Beats')\n",
    "\n",
    "o_env = librosa.onset.onset_strength(x, sr=sr)\n",
    "times = librosa.times_like(o_env, sr=sr)\n",
    "onset_frames = librosa.onset.onset_detect(onset_envelope=o_env, sr=sr)\n",
    "\n",
    "# add annotation\n",
    "beattimes = [1.110, 1.765, 2.392, 3.001, 3.622, 4.261, 4.899, 5.538, 6.171, 6.809, 7.436, 8.057, 8.678, 9.300, 9.927, 10.553]\n",
    "beattimes = np.array(beattimes) - 1.05\n",
    "beat_hierarchy = [1, 2, 3, 4, 1, 2, 3, 4, 1, 2, 3, 4, 1, 2, 3, 4]\n",
    "\n",
    "for i in range(len(beattimes)):\n",
    "    plt.text(beattimes[i],20,int(beat_hierarchy[i]),size=6,backgroundcolor='0.8',weight='bold',ha='center')\n",
    "\n",
    "plt.show()"
   ],
   "metadata": {
    "collapsed": false
   }
  }
 ],
 "metadata": {
  "kernelspec": {
   "display_name": "Python 3",
   "language": "python",
   "name": "python3"
  },
  "language_info": {
   "codemirror_mode": {
    "name": "ipython",
    "version": 2
   },
   "file_extension": ".py",
   "mimetype": "text/x-python",
   "name": "python",
   "nbconvert_exporter": "python",
   "pygments_lexer": "ipython2",
   "version": "2.7.6"
  }
 },
 "nbformat": 4,
 "nbformat_minor": 0
}
