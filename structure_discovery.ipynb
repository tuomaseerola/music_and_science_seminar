{
  "nbformat": 4,
  "nbformat_minor": 0,
  "metadata": {
    "colab": {
      "private_outputs": true,
      "provenance": [],
      "authorship_tag": "ABX9TyNGmOleO7uFy+qELLRYcBT9",
      "include_colab_link": true
    },
    "kernelspec": {
      "name": "python3",
      "display_name": "Python 3"
    },
    "language_info": {
      "name": "python"
    }
  },
  "cells": [
    {
      "cell_type": "markdown",
      "metadata": {
        "id": "view-in-github",
        "colab_type": "text"
      },
      "source": [
        "<a href=\"https://colab.research.google.com/github/tuomaseerola/music_and_science_seminar/blob/master/structure_discovery.ipynb\" target=\"_parent\"><img src=\"https://colab.research.google.com/assets/colab-badge.svg\" alt=\"Open In Colab\"/></a>"
      ]
    },
    {
      "cell_type": "markdown",
      "source": [
        "# Structure discovery\n",
        "\n",
        "Examples of structural analysis.\n",
        "\n",
        "_Tuomas Eerola, 2/3/2023_\n"
      ],
      "metadata": {
        "id": "3FE_SHpghGUm"
      }
    },
    {
      "cell_type": "code",
      "execution_count": null,
      "metadata": {
        "id": "qezibENxf2NT"
      },
      "outputs": [],
      "source": [
        "# pip install librosa\n",
        "# pip install matplotlib\n",
        "from __future__ import print_function\n",
        "import librosa\n",
        "#import pandas as pd \n",
        "import numpy as np \n",
        "import matplotlib.pyplot as plt\n",
        "import librosa.display\n",
        "import os\n",
        "import sklearn\n",
        "import warnings\n",
        "%matplotlib inline\n",
        "import IPython.display as ipd\n",
        "warnings.filterwarnings('ignore')"
      ]
    },
    {
      "cell_type": "markdown",
      "source": [
        "### Select the piece and downsample for easier processing\n"
      ],
      "metadata": {
        "id": "qgImlIikf5mW"
      }
    },
    {
      "cell_type": "code",
      "source": [
        "filename = 'Medtner - Op 8 no 1 - Shatskes.wav' # 'Vivaldi.wav'\n",
        "# from : https://www.medtner.org.uk/mp3/Medtner%20-%20Op%208%20no%201%20-%20Shatskes.mp3\n",
        "y, sr = librosa.load(filename)    # Load file\n",
        "#y = librosa.resample(y, orig_sr=sr, target_sr=22050); sr=22050 # radical downsampling if the file is long\n",
        "plt.figure(figsize=(12, 3))\n",
        "librosa.display.waveshow(y,sr)\n",
        "ipd.display(ipd.Audio(data=y, rate=sr))"
      ],
      "metadata": {
        "id": "4j0HJxxaf7pO"
      },
      "execution_count": null,
      "outputs": []
    },
    {
      "cell_type": "markdown",
      "source": [
        "## Look at the spectrum first"
      ],
      "metadata": {
        "id": "ohS7iSk6f_Eu"
      }
    },
    {
      "cell_type": "code",
      "source": [
        "hop_length = 1024\n",
        "D = librosa.amplitude_to_db(np.abs(librosa.stft(y, hop_length=hop_length)),ref=np.max)\n",
        "plt.rcParams['figure.figsize'] = (18,4)\n",
        "librosa.display.specshow(D, y_axis='log', sr=sr, hop_length=hop_length,x_axis='time',cmap='jet')\n",
        "plt.show()"
      ],
      "metadata": {
        "id": "ZVymb1yIgBF1"
      },
      "execution_count": null,
      "outputs": []
    },
    {
      "cell_type": "markdown",
      "source": [
        "## Chromagram representation\n",
        "Let's collapse the spectrum into chromagram, which means that the energies across all pitch-classes (C, C#, D,...) are summed. This can be done in many ways, but Constant-Q Transform (CQT) is one of the most common transformations.\n"
      ],
      "metadata": {
        "id": "lBGy2c3ChWxY"
      }
    },
    {
      "cell_type": "code",
      "source": [
        "C = librosa.feature.chroma_cqt(y=y, sr=sr, n_chroma=12)\n",
        "plt.figure(figsize=(18, 5))\n",
        "librosa.display.specshow(C, y_axis='chroma',x_axis='time')\n",
        "plt.title('CQT Chromagram')\n",
        "plt.show()\n",
        "ipd.display(ipd.Audio(data=y, rate=sr))"
      ],
      "metadata": {
        "id": "JPFxG0pjGEHb"
      },
      "execution_count": null,
      "outputs": []
    }
  ]
}